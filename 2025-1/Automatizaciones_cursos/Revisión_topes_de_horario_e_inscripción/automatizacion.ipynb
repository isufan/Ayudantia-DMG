{
 "cells": [
  {
   "cell_type": "code",
   "execution_count": 29,
   "metadata": {},
   "outputs": [
    {
     "name": "stdout",
     "output_type": "stream",
     "text": [
      "Requirement already satisfied: pandas in c:\\users\\ignac\\appdata\\local\\programs\\python\\python312\\lib\\site-packages (2.2.3)Note: you may need to restart the kernel to use updated packages.\n",
      "\n",
      "Requirement already satisfied: numpy>=1.26.0 in c:\\users\\ignac\\appdata\\local\\programs\\python\\python312\\lib\\site-packages (from pandas) (2.0.2)\n",
      "Requirement already satisfied: python-dateutil>=2.8.2 in c:\\users\\ignac\\appdata\\roaming\\python\\python312\\site-packages (from pandas) (2.9.0.post0)\n",
      "Requirement already satisfied: pytz>=2020.1 in c:\\users\\ignac\\appdata\\local\\programs\\python\\python312\\lib\\site-packages (from pandas) (2024.2)\n",
      "Requirement already satisfied: tzdata>=2022.7 in c:\\users\\ignac\\appdata\\local\\programs\\python\\python312\\lib\\site-packages (from pandas) (2024.2)\n",
      "Requirement already satisfied: six>=1.5 in c:\\users\\ignac\\appdata\\roaming\\python\\python312\\site-packages (from python-dateutil>=2.8.2->pandas) (1.16.0)\n"
     ]
    },
    {
     "name": "stderr",
     "output_type": "stream",
     "text": [
      "\n",
      "[notice] A new release of pip is available: 24.2 -> 24.3.1\n",
      "[notice] To update, run: python.exe -m pip install --upgrade pip\n"
     ]
    }
   ],
   "source": [
    "%pip install pandas"
   ]
  },
  {
   "cell_type": "code",
   "execution_count": 30,
   "metadata": {},
   "outputs": [],
   "source": [
    "import pandas as pd"
   ]
  },
  {
   "cell_type": "markdown",
   "metadata": {},
   "source": [
    "**Especificar a continuación el nombre del archivo conteniendo el catálogo VRAI junto con las respuestas del formulario**"
   ]
  },
  {
   "cell_type": "code",
   "execution_count": 37,
   "metadata": {},
   "outputs": [],
   "source": [
    "df_courses_vrai_file = 'formulario_limpio_rezagados.xlsx'"
   ]
  },
  {
   "cell_type": "markdown",
   "metadata": {},
   "source": [
    "A continuación se procede a importar y formatear la información de los **cursos generales que los estudiantes indicaron** en el formulario"
   ]
  },
  {
   "cell_type": "code",
   "execution_count": 40,
   "metadata": {},
   "outputs": [],
   "source": [
    "cols_df_students = ['Nombre completo', 'Transcript of Records', 'RUT UC', 'Correo electrónico2','País de tu universidad', 'Universidad de Origen', 'NRC', 'Sigla', 'Curso dentro del catálogo']\n",
    "df_students = pd.read_excel(df_courses_vrai_file, sheet_name='Cursos validados', dtype=str)[cols_df_students].astype(str)\n",
    "names_ruts = df_students[['Nombre completo', 'RUT UC']].drop_duplicates(subset=['RUT UC'])"
   ]
  },
  {
   "cell_type": "markdown",
   "metadata": {},
   "source": [
    "A continuación se procede a importar y formatear la información de los cursos desde el **catálogo VRAI**"
   ]
  },
  {
   "cell_type": "code",
   "execution_count": 41,
   "metadata": {},
   "outputs": [],
   "source": [
    "cols_df_courses = ['NRC', 'Escuela', 'Nombre Curso', 'Sigla', 'Sección', 'Campus', 'Horario Cátedra/Clase', 'Horario Ayudantía', 'Horario Laboratorio', 'Horario Taller']\n",
    "df_courses = pd.read_excel(df_courses_vrai_file, sheet_name='Catálogo VRAI', dtype=str)[cols_df_courses].astype(str)"
   ]
  },
  {
   "cell_type": "code",
   "execution_count": 46,
   "metadata": {},
   "outputs": [],
   "source": [
    "columns_successful_cases_df = ['Nombre estudiante', 'Transcript of Records', 'RUT UC', 'Correo electrónico', 'País de origen', 'Universidad de origen', 'Unidad académica', 'Nombre curso', 'NRC', 'Sigla', 'Número de sección', 'Prioridad curso', '¿Inscrito?', 'Observaciones', 'Asignación DMG']\n",
    "columns_unsuccessful_cases_df = ['Nombre estudiante', 'RUT UC', 'Motivo']\n",
    "successful_cases_df = pd.DataFrame(columns=columns_successful_cases_df)\n",
    "unsuccessful_cases_df = pd.DataFrame(columns=columns_unsuccessful_cases_df)\n",
    "\n",
    "def add_to_df_successful(df, student_info, courses, index_course1, index_course2):\n",
    "    course1, course2 = courses[0], courses[1]\n",
    "    student_name = student_info['name']\n",
    "    tor = student_info['tor']\n",
    "    rut_uc = student_info['rut_uc']\n",
    "    email = student_info['email']\n",
    "    uni_country = student_info['uni_country']\n",
    "    uni_of_origin = student_info['uni_name']\n",
    "    ua_1 = course1['Escuela'].values[0]\n",
    "    course_name_1 = course1['Nombre Curso'].values[0]\n",
    "    nrc_1 = course1['NRC'].values[0]\n",
    "    sigla_1 = course1['Sigla'].values[0]\n",
    "    section_number_1 = course1['Sección'].values[0]\n",
    "    ua_2 = course2['Escuela'].values[0]\n",
    "    course_name_2 = course2['Nombre Curso'].values[0]\n",
    "    nrc_2 = course2['NRC'].values[0]\n",
    "    sigla_2 = course2['Sigla'].values[0]\n",
    "    section_number_2 = course2['Sección'].values[0]\n",
    "    df.loc[len(df)] = [student_name, tor, rut_uc, email, uni_country, uni_of_origin, ua_1, \n",
    "                       course_name_1, nrc_1, sigla_1, section_number_1, index_course1,'', '', '']\n",
    "    df.loc[len(df)] = [student_name, tor, rut_uc, email, uni_country, uni_of_origin, ua_2, \n",
    "                       course_name_2, nrc_2, sigla_2, section_number_2, index_course2,'', '', '']\n",
    "    \n",
    "def add_to_df_unsuccessful(df, student_info, reason):\n",
    "    df.loc[len(df)] = [student_info['name'], student_info['rut_uc'], reason]"
   ]
  },
  {
   "cell_type": "code",
   "execution_count": 47,
   "metadata": {},
   "outputs": [],
   "source": [
    "priority_values = {1 : 150, 2 : 130, 3 : 110, 4 : 100, 5 : 70, 6 : 60, 7 : 50, 8 : 40, 9 : 30, 10 : 20}\n",
    "start_times_info = { '0820' : 1, '0940' : 2, '1100' : 3, '1220' : 4, '1450' : 5, '1610' : 6, '1730' : 7, '1850' : 8, '2010' : 9}\n",
    "end_times_info = { '0930' : 1, '1050' : 2, '1210' : 3, '1330' : 4, '1600' : 5, '1720' : 6, '1840' : 7, '2000' : 8, '2120' : 9}\n",
    "\n",
    "def format_schedule_info(info):\n",
    "    return info.strip().replace(' ', '').replace(':', '').replace('\\n', '')[:-1].split(';')\n",
    "\n",
    "def generate_priority_combinations(n_courses):\n",
    "    all_combinations = []\n",
    "    for i in range(1, n_courses + 1):\n",
    "        for j in range(i + 1, n_courses + 1):\n",
    "            all_combinations.append([[i, j], i + j])\n",
    "    all_combinations.sort(key = lambda x : x[1])\n",
    "    return all_combinations\n",
    "\n",
    "def transform_module_info(schedule1:dict, full_schedule_info:list):\n",
    "    for info in full_schedule_info:\n",
    "        info_list = format_schedule_info(info)\n",
    "        for element in info_list:\n",
    "            week_day, start_time, end_time = element[-10], element[-9:-5], element[-4:]\n",
    "            start_module, end_module = start_times_info[start_time], end_times_info[end_time]\n",
    "            for i in range(start_module, end_module + 1):\n",
    "                schedule1[week_day].append(i)\n",
    "    return schedule1\n",
    "\n",
    "def get_full_schedule(course_match):\n",
    "    campus = course_match['Campus'].values[0].strip()\n",
    "    catedra_schedule, ayudantia_schedule = course_match['Horario Cátedra/Clase'].values[0], course_match['Horario Ayudantía'].values[0]\n",
    "    taller_schedule, lab_schedule = course_match['Horario Taller'].values[0], course_match['Horario Laboratorio'].values[0]\n",
    "    full_schedule_list = [x for x in [catedra_schedule, ayudantia_schedule, taller_schedule, lab_schedule] if x != 'nan']\n",
    "    return full_schedule_list, campus\n",
    "\n",
    "def get_class1_info(course_match): # Extraer la información de los horarios del curso 1, convertirla y transferirla al diccionario schedule1.\n",
    "    schedule1 = {'L': [], 'M' : [], 'W' : [], 'J' : [], 'V' : [], 'S' : []}\n",
    "    full_schedule_info, campus1 = get_full_schedule(course_match)\n",
    "    schedule1 = transform_module_info(schedule1, full_schedule_info)\n",
    "    return schedule1, campus1\n",
    "\n",
    "def check_class2_compatibility(schedule1, campus1, course_match):\n",
    "    full_schedule_info, campus2 = get_full_schedule(course_match)\n",
    "    for info in full_schedule_info:\n",
    "        info_list = format_schedule_info(info)\n",
    "        for element in info_list:\n",
    "            week_day, start_time, end_time = element[-10], element[-9:-5], element[-4:]\n",
    "            start_module, end_module = start_times_info[start_time], end_times_info[end_time]\n",
    "            for i in range(start_module, end_module + 1):\n",
    "                if i in schedule1[week_day] or (campus1 != campus2 and (i + 1 in schedule1[week_day] or i - 1 in schedule1[week_day])):\n",
    "                    return False\n",
    "    return True\n",
    "\n",
    "def check_compatibility(nrc1, nrc2, sigla1, sigla2):\n",
    "    course1_match = df_courses.loc[df_courses['NRC'] == nrc1]\n",
    "    course2_match = df_courses.loc[df_courses['NRC'] == nrc2]\n",
    "    if len(course1_match) and len(course2_match) and sigla1 != sigla2:\n",
    "        schedule1, campus1 = get_class1_info(course1_match)\n",
    "        compatible = check_class2_compatibility(schedule1, campus1, course2_match)\n",
    "        return compatible, [course1_match, course2_match]\n",
    "    return False, []"
   ]
  },
  {
   "cell_type": "code",
   "execution_count": 48,
   "metadata": {},
   "outputs": [],
   "source": [
    "# ['Nombre completo', 'Transcript of Records', 'RUT UC', 'Correo electrónico2','País de tu universidad', 'Universidad de Origen', 'NRC', 'Sigla', 'Curso dentro del catálogo']\n",
    "for index, row in names_ruts.iterrows():\n",
    "    compatible = False\n",
    "    matches = df_students.loc[(df_students['RUT UC'] == row['RUT UC']) & (df_students['Curso dentro del catálogo'] == 'Sí')]\n",
    "    if len(matches) >= 2:\n",
    "        student_info = { 'name': matches['Nombre completo'].values[0], 'tor': matches['Transcript of Records'].values[0], \n",
    "                     'rut_uc': matches['RUT UC'].values[0], 'email': matches['Correo electrónico2'].values[0], \n",
    "                     'uni_country': matches['País de tu universidad'].values[0], \n",
    "                     'uni_name' : matches['Universidad de Origen'].values[0] }\n",
    "        all_priority_combinations = generate_priority_combinations(len(matches))\n",
    "        for priority_combination in all_priority_combinations:\n",
    "            index_course1, index_course2 = priority_combination[0][0], priority_combination[0][1] \n",
    "            nrc_course1, nrc_course2 = matches['NRC'].values[index_course1 - 1], matches['NRC'].values[index_course2 - 1]\n",
    "            sigla_course1, sigla_course2 = matches['Sigla'].values[index_course1 - 1], matches['Sigla'].values[index_course2 - 1]\n",
    "            compatible, courses = check_compatibility(nrc_course1, nrc_course2, sigla_course1, sigla_course2)\n",
    "            if compatible:\n",
    "                add_to_df_successful(successful_cases_df, student_info, courses, index_course1, index_course2)\n",
    "                break\n",
    "\n",
    "        if not compatible:\n",
    "            reason = 'No se encontraron dos cursos compatibles.'\n",
    "            add_to_df_unsuccessful(unsuccessful_cases_df, student_info, reason)\n",
    "    else:\n",
    "        reason = 'Estudiante tiene menos de dos opciones de curso.'\n",
    "        student_info = { 'name': row['Nombre completo'], 'rut_uc' : row['RUT UC']}\n",
    "        add_to_df_unsuccessful(unsuccessful_cases_df, student_info, reason)\n",
    "\n",
    "with pd.ExcelWriter('Revisión tope de horarios cursos e inscripción_rezagados.xlsx') as writer:\n",
    "    successful_cases_df.to_excel(writer, sheet_name='Con éxito', index=False)\n",
    "    unsuccessful_cases_df.to_excel(writer, sheet_name='Sin éxito', index=False)"
   ]
  }
 ],
 "metadata": {
  "kernelspec": {
   "display_name": "Python 3",
   "language": "python",
   "name": "python3"
  },
  "language_info": {
   "codemirror_mode": {
    "name": "ipython",
    "version": 3
   },
   "file_extension": ".py",
   "mimetype": "text/x-python",
   "name": "python",
   "nbconvert_exporter": "python",
   "pygments_lexer": "ipython3",
   "version": "3.12.7"
  }
 },
 "nbformat": 4,
 "nbformat_minor": 2
}
