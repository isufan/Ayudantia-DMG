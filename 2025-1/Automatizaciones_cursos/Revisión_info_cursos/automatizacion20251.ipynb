{
 "cells": [
  {
   "cell_type": "code",
   "execution_count": 2,
   "metadata": {},
   "outputs": [],
   "source": [
    "import pandas as pd\n",
    "from unidecode import unidecode\n",
    "from re import sub"
   ]
  },
  {
   "cell_type": "code",
   "execution_count": 20,
   "metadata": {},
   "outputs": [],
   "source": [
    "COGNOS_CATALOGUE_FILE_NAME = 'Cursos programados 2024_FINAL.xlsx'\n",
    "COGNOS_CATALOGUE_SHEET_NAME = 'Hoja2'\n",
    "\n",
    "VRAI_CATALOGUE_FILE_NAME = '3. Formulario preselección de cursos intercambio 2024-2. (1-13)_REZAGADOS.xlsx'\n",
    "VRAI_CATALOGUE_SHEET_NAME = 'Catálogo VRAI'\n",
    "\n",
    "GENERAL_COURSES_SHEET_NAME = 'Cursos generales'\n",
    "SPORTS_COURSES_SHEET_NAME = 'Cursos deportivos'\n",
    "\n",
    "columns_vrai_catalogue_df = {'nrc' : 'NRC',\n",
    "                             'academic_unit' : 'Escuela',\n",
    "                             'course_name' : 'Nombre del curso',\n",
    "                             'sigla' : 'Sigla'}\n",
    "\n",
    "columns_cognos_catalogue_df = {'nrc' : 'NRC',\n",
    "                               'academic_unit' : 'Escuela',\n",
    "                               'subject' : 'Materia',\n",
    "                               'course_number' : 'Número Curso',\n",
    "                               'course_name' : 'Nombre Curso'}\n",
    "\n",
    "columns_students_choices_df = {'full_name' : 'Nombre completo',\n",
    "                               'rut_uc' : 'RUT UC',\n",
    "                               'course_name' : 'Nombre',\n",
    "                               'sigla' : 'Sigla',\n",
    "                               'nrc' : 'NRC'}"
   ]
  },
  {
   "cell_type": "code",
   "execution_count": 18,
   "metadata": {},
   "outputs": [],
   "source": [
    "class DataFrameFormatter:\n",
    "    def __init__(self, dataframe, columns:dict):\n",
    "        self.dataframe = dataframe\n",
    "        self.columns_dict = columns\n",
    "        self.columns_list = list(columns.values())\n",
    "        self.FORMATTED_COURSE_NAME_COLUMN_NAME = 'Nombre curso (formateado)'\n",
    "        self.FORMATTED_COURSE_SIGLA_COLUMN_NAME = 'Sigla (formateado)'\n",
    "\n",
    "    def strip_all_columns(self) -> None:\n",
    "        self.dataframe[self.columns_list] = self.dataframe[self.columns_list].apply(lambda x : x.str.strip())\n",
    "    \n",
    "    def format_column(self, column_name, formatted_column_name) -> None:\n",
    "        self.dataframe[formatted_column_name] = self.dataframe[column_name].apply(\n",
    "            lambda x: TextFormatter(x).format_text()\n",
    "        )\n",
    "\n",
    "class CognosDataFrameFormatter(DataFrameFormatter):\n",
    "    def __init__(self, dataframe, columns):\n",
    "        super().__init__(dataframe, columns)\n",
    "\n",
    "    def format_dataframe(self) -> None:\n",
    "        self.strip_all_columns()\n",
    "        self.format_course_number()\n",
    "        self.create_sigla_column()\n",
    "        self.format_column(self.columns_dict['course_name'], self.FORMATTED_COURSE_NAME_COLUMN_NAME)\n",
    "        self.format_column('Sigla', self.FORMATTED_COURSE_SIGLA_COLUMN_NAME)\n",
    "\n",
    "    def format_course_number(self) -> None:\n",
    "        self.dataframe[self.columns_dict['course_number']] = self.dataframe[self.columns_dict['course_number']].apply(\n",
    "            lambda x : CourseNumberFormatter(x).format_course_number()\n",
    "        )\n",
    "\n",
    "    def create_sigla_column(self) -> None:\n",
    "        self.dataframe['Sigla'] = self.dataframe[self.columns_dict['subject']] + self.dataframe[self.columns_dict['course_number']]\n",
    "        \n",
    "\n",
    "class VraiDataFrameFormatter(DataFrameFormatter):\n",
    "    def __init__(self, dataframe, columns):\n",
    "        super().__init__(dataframe, columns)\n",
    "        \n",
    "    def format_dataframe(self) -> None:\n",
    "        self.strip_all_columns()\n",
    "        self.format_column(self.columns_dict['course_name'], self.FORMATTED_COURSE_NAME_COLUMN_NAME)\n",
    "        self.format_column(self.columns_dict['sigla'], self.FORMATTED_COURSE_SIGLA_COLUMN_NAME)\n",
    "\n",
    "class TextFormatter:\n",
    "    def __init__(self, text:str):\n",
    "        self.text = text\n",
    "\n",
    "    def format_text(self) -> None:\n",
    "        self.delete_accents()\n",
    "        self.delete_special_characters()\n",
    "        self.convert_to_lowercase()\n",
    "        self.delete_spaces()\n",
    "        return self.text\n",
    "\n",
    "    def delete_accents(self) -> None:\n",
    "        self.text = unidecode(str(self.text))\n",
    "\n",
    "    def delete_special_characters(self) -> None:\n",
    "        self.text = sub('[^a-zA-Z0-9]+', '', self.text)\n",
    "    \n",
    "    def convert_to_lowercase(self) -> None:\n",
    "        self.text = self.text.lower()\n",
    "\n",
    "    def delete_spaces(self) -> None:\n",
    "        self.text = self.text.strip().replace(' ', '')\n",
    "    \n",
    "class CourseNumberFormatter:\n",
    "    def __init__(self, course_number:str):\n",
    "        self.course_number = course_number\n",
    "    \n",
    "    def format_course_number(self) -> str:\n",
    "        if len(self.course_number) == 1:\n",
    "            self.course_number = f'00{self.course_number}'\n",
    "        \n",
    "        elif len(self.course_number) == 2:\n",
    "            self.course_number = f'0{self.course_number}'\n",
    "\n",
    "        return self.course_number"
   ]
  },
  {
   "cell_type": "code",
   "execution_count": 14,
   "metadata": {},
   "outputs": [],
   "source": [
    "df_cognos_catalogue = pd.read_excel(COGNOS_CATALOGUE_FILE_NAME, sheet_name=COGNOS_CATALOGUE_SHEET_NAME, dtype=str)[list(columns_cognos_catalogue_df.values())].astype(str)\n",
    "df_cognos_catalogue_formatter = CognosDataFrameFormatter(df_cognos_catalogue, columns_cognos_catalogue_df)\n",
    "df_cognos_catalogue_formatter.format_dataframe()\n",
    "df_cognos_catalogue = df_cognos_catalogue_formatter.dataframe"
   ]
  },
  {
   "cell_type": "code",
   "execution_count": 15,
   "metadata": {},
   "outputs": [],
   "source": [
    "df_vrai_catalogue = pd.read_excel(VRAI_CATALOGUE_FILE_NAME, sheet_name=VRAI_CATALOGUE_SHEET_NAME, dtype=str)[list(columns_vrai_catalogue_df.values())].astype(str)\n",
    "df_vrai_catalogue_formatter = VraiDataFrameFormatter(df_vrai_catalogue, columns_vrai_catalogue_df)\n",
    "df_vrai_catalogue_formatter.format_dataframe()\n",
    "df_vrai_catalogue = df_vrai_catalogue_formatter.dataframe"
   ]
  },
  {
   "cell_type": "code",
   "execution_count": 21,
   "metadata": {},
   "outputs": [],
   "source": [
    "df_general_courses = pd.read_excel(VRAI_CATALOGUE_FILE_NAME, sheet_name=GENERAL_COURSES_SHEET_NAME, dtype=str)[list(columns_students_choices_df.values())].astype(str)\n",
    "df_general_courses_formatter = VraiDataFrameFormatter(df_general_courses, columns_students_choices_df)\n",
    "df_general_courses_formatter.format_dataframe()\n",
    "df_general_courses = df_general_courses_formatter.dataframe"
   ]
  },
  {
   "cell_type": "code",
   "execution_count": 22,
   "metadata": {},
   "outputs": [],
   "source": [
    "df_sports_courses = pd.read_excel(VRAI_CATALOGUE_FILE_NAME, sheet_name=SPORTS_COURSES_SHEET_NAME, dtype=str)[list(columns_students_choices_df.values())].astype(str)\n",
    "df_sports_courses_formatter = VraiDataFrameFormatter(df_sports_courses, columns_students_choices_df)\n",
    "df_sports_courses_formatter.format_dataframe()\n",
    "df_sports_courses = df_sports_courses_formatter.dataframe"
   ]
  }
 ],
 "metadata": {
  "kernelspec": {
   "display_name": "Python 3",
   "language": "python",
   "name": "python3"
  },
  "language_info": {
   "codemirror_mode": {
    "name": "ipython",
    "version": 3
   },
   "file_extension": ".py",
   "mimetype": "text/x-python",
   "name": "python",
   "nbconvert_exporter": "python",
   "pygments_lexer": "ipython3",
   "version": "3.12.7"
  }
 },
 "nbformat": 4,
 "nbformat_minor": 2
}
