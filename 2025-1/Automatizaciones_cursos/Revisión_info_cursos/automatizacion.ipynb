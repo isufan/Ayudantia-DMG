{
 "cells": [
  {
   "cell_type": "code",
   "execution_count": 3,
   "metadata": {},
   "outputs": [
    {
     "name": "stdout",
     "output_type": "stream",
     "text": [
      "Requirement already satisfied: unidecode in c:\\users\\ignac\\appdata\\local\\programs\\python\\python38\\lib\\site-packages (1.3.8)Note: you may need to restart the kernel to use updated packages.\n",
      "\n"
     ]
    },
    {
     "name": "stderr",
     "output_type": "stream",
     "text": [
      "WARNING: You are using pip version 21.2.4; however, version 24.3.1 is available.\n",
      "You should consider upgrading via the 'c:\\Users\\ignac\\AppData\\Local\\Programs\\Python\\Python38\\python.exe -m pip install --upgrade pip' command.\n"
     ]
    },
    {
     "name": "stdout",
     "output_type": "stream",
     "text": [
      "Requirement already satisfied: pandas in c:\\users\\ignac\\appdata\\local\\programs\\python\\python38\\lib\\site-packages (1.5.0)\n",
      "Requirement already satisfied: pytz>=2020.1 in c:\\users\\ignac\\appdata\\local\\programs\\python\\python38\\lib\\site-packages (from pandas) (2021.1)\n",
      "Requirement already satisfied: numpy>=1.20.3 in c:\\users\\ignac\\appdata\\local\\programs\\python\\python38\\lib\\site-packages (from pandas) (1.23.2)\n",
      "Requirement already satisfied: python-dateutil>=2.8.1 in c:\\users\\ignac\\appdata\\local\\programs\\python\\python38\\lib\\site-packages (from pandas) (2.8.1)\n",
      "Requirement already satisfied: six>=1.5 in c:\\users\\ignac\\appdata\\local\\programs\\python\\python38\\lib\\site-packages (from python-dateutil>=2.8.1->pandas) (1.16.0)\n",
      "Note: you may need to restart the kernel to use updated packages.\n"
     ]
    },
    {
     "name": "stderr",
     "output_type": "stream",
     "text": [
      "WARNING: You are using pip version 21.2.4; however, version 24.3.1 is available.\n",
      "You should consider upgrading via the 'c:\\Users\\ignac\\AppData\\Local\\Programs\\Python\\Python38\\python.exe -m pip install --upgrade pip' command.\n"
     ]
    }
   ],
   "source": [
    "# Instalación de paquetes requeridos\n",
    "%pip install unidecode\n",
    "%pip install pandas"
   ]
  },
  {
   "cell_type": "code",
   "execution_count": 1,
   "metadata": {},
   "outputs": [],
   "source": [
    "# Importar paquetes requeridos\n",
    "import pandas as pd\n",
    "from unidecode import unidecode\n",
    "from re import sub"
   ]
  },
  {
   "cell_type": "code",
   "execution_count": 2,
   "metadata": {},
   "outputs": [],
   "source": [
    "# Definición de función que permite dejar los nombres de los cursos en un formato adecuado\n",
    "def format_text(input_string):\n",
    "    no_a = unidecode(str(input_string)) # Eliminar tildes\n",
    "    no_sc = sub('[^a-zA-Z0-9]+', '', no_a) # Eliminar caracteres especiales\n",
    "    return no_sc.lower().strip().replace(' ', '') # Eliminar espacios y pasar todo a minúscula\n",
    "\n",
    "# Definición de función que permite dejar las siglas de los cursos en un formato adecuado\n",
    "def format_course_number(input_string):\n",
    "    if len(input_string) == 1: # Si el número de curso tiene 1 dígito. Ej. COM1\n",
    "        return f'00{input_string}' # Agrega dos ceros. Ej. COM001\n",
    "\n",
    "    elif len(input_string) == 2: # Si el número de curso tiene 2 dígitos. Ej. COM01\n",
    "        return f'0{input_string}' # Agrega un cero. Ej. COM001\n",
    "    return input_string"
   ]
  },
  {
   "cell_type": "markdown",
   "metadata": {},
   "source": [
    "**Especificar a continuación los nombres de los archivos conteniendo el catálogo cognos y el catálogo VRAI junto con las respuestas del formulario**"
   ]
  },
  {
   "cell_type": "code",
   "execution_count": 3,
   "metadata": {},
   "outputs": [],
   "source": [
    "df_courses_global_file = 'Programación completa UC 20251.xlsx'\n",
    "df_courses_vrai_file = 'formulario_limpio_rezagados.xlsx'"
   ]
  },
  {
   "cell_type": "markdown",
   "metadata": {},
   "source": [
    "A continuación se procede a importar y formatear la información de los cursos desde el **catálogo cognos** (que contiene todos los cursos a dictar)"
   ]
  },
  {
   "cell_type": "code",
   "execution_count": 4,
   "metadata": {},
   "outputs": [],
   "source": [
    "cols_courses_global = ['NRC', 'Escuela', 'Materia', 'Número Curso', 'Nombre Curso']\n",
    "df_courses_global = pd.read_excel(df_courses_global_file, sheet_name='Programación UC', dtype=str)[cols_courses_global].astype(str)\n",
    "\n",
    "df_courses_global[cols_courses_global] = df_courses_global[cols_courses_global].apply(lambda x : x.str.strip())\n",
    "df_courses_global['Número Curso'] = df_courses_global['Número Curso'].apply(format_course_number)\n",
    "df_courses_global['Sigla'] = df_courses_global['Materia'] + df_courses_global['Número Curso']\n",
    "df_courses_global = df_courses_global.drop(['Materia', 'Número Curso'], axis=1)\n",
    "df_courses_global['Nombre Curso (formateado)'] = df_courses_global['Nombre Curso'].apply(format_text)\n",
    "df_courses_global['Sigla (formateado)'] = df_courses_global['Sigla'].apply(format_text)"
   ]
  },
  {
   "cell_type": "code",
   "execution_count": 5,
   "metadata": {},
   "outputs": [
    {
     "data": {
      "text/html": [
       "<div>\n",
       "<style scoped>\n",
       "    .dataframe tbody tr th:only-of-type {\n",
       "        vertical-align: middle;\n",
       "    }\n",
       "\n",
       "    .dataframe tbody tr th {\n",
       "        vertical-align: top;\n",
       "    }\n",
       "\n",
       "    .dataframe thead th {\n",
       "        text-align: right;\n",
       "    }\n",
       "</style>\n",
       "<table border=\"1\" class=\"dataframe\">\n",
       "  <thead>\n",
       "    <tr style=\"text-align: right;\">\n",
       "      <th></th>\n",
       "      <th>NRC</th>\n",
       "      <th>Escuela</th>\n",
       "      <th>Nombre Curso</th>\n",
       "      <th>Sigla</th>\n",
       "      <th>Nombre Curso (formateado)</th>\n",
       "      <th>Sigla (formateado)</th>\n",
       "    </tr>\n",
       "  </thead>\n",
       "  <tbody>\n",
       "    <tr>\n",
       "      <th>0</th>\n",
       "      <td>18165</td>\n",
       "      <td>06 - Matemáticas</td>\n",
       "      <td>Probabilidad</td>\n",
       "      <td>EPG3110</td>\n",
       "      <td>probabilidad</td>\n",
       "      <td>epg3110</td>\n",
       "    </tr>\n",
       "    <tr>\n",
       "      <th>1</th>\n",
       "      <td>17316</td>\n",
       "      <td>06 - Matemáticas</td>\n",
       "      <td>Metodos Estadisticos Avanzados</td>\n",
       "      <td>EPG3510</td>\n",
       "      <td>metodosestadisticosavanzados</td>\n",
       "      <td>epg3510</td>\n",
       "    </tr>\n",
       "    <tr>\n",
       "      <th>2</th>\n",
       "      <td>19042</td>\n",
       "      <td>06 - Matemáticas</td>\n",
       "      <td>Metodos Estadisticos Avanzados</td>\n",
       "      <td>EPG3530</td>\n",
       "      <td>metodosestadisticosavanzados</td>\n",
       "      <td>epg3530</td>\n",
       "    </tr>\n",
       "    <tr>\n",
       "      <th>3</th>\n",
       "      <td>17321</td>\n",
       "      <td>06 - Matemáticas</td>\n",
       "      <td>Metodos Exploratorios y Comput</td>\n",
       "      <td>EPG3730</td>\n",
       "      <td>metodosexploratoriosycomput</td>\n",
       "      <td>epg3730</td>\n",
       "    </tr>\n",
       "    <tr>\n",
       "      <th>4</th>\n",
       "      <td>20942</td>\n",
       "      <td>06 - Matemáticas</td>\n",
       "      <td>Actividad Anual de Seguimiento</td>\n",
       "      <td>EPG4010</td>\n",
       "      <td>actividadanualdeseguimiento</td>\n",
       "      <td>epg4010</td>\n",
       "    </tr>\n",
       "    <tr>\n",
       "      <th>...</th>\n",
       "      <td>...</td>\n",
       "      <td>...</td>\n",
       "      <td>...</td>\n",
       "      <td>...</td>\n",
       "      <td>...</td>\n",
       "      <td>...</td>\n",
       "    </tr>\n",
       "    <tr>\n",
       "      <th>7109</th>\n",
       "      <td>16271</td>\n",
       "      <td>04 - Ingeniería</td>\n",
       "      <td>Investigacion, Innovacion y Em</td>\n",
       "      <td>ING2030</td>\n",
       "      <td>investigacioninnovacionyem</td>\n",
       "      <td>ing2030</td>\n",
       "    </tr>\n",
       "    <tr>\n",
       "      <th>7110</th>\n",
       "      <td>25592</td>\n",
       "      <td>04 - Ingeniería</td>\n",
       "      <td>Investigacion, Innovacion y Em</td>\n",
       "      <td>ING2030</td>\n",
       "      <td>investigacioninnovacionyem</td>\n",
       "      <td>ing2030</td>\n",
       "    </tr>\n",
       "    <tr>\n",
       "      <th>7111</th>\n",
       "      <td>25595</td>\n",
       "      <td>04 - Ingeniería</td>\n",
       "      <td>Investigacion, Innovacion y Em</td>\n",
       "      <td>ING2030</td>\n",
       "      <td>investigacioninnovacionyem</td>\n",
       "      <td>ing2030</td>\n",
       "    </tr>\n",
       "    <tr>\n",
       "      <th>7112</th>\n",
       "      <td>28541</td>\n",
       "      <td>04 - Ingeniería</td>\n",
       "      <td>Intro exploratoria Robotica</td>\n",
       "      <td>IRB1010</td>\n",
       "      <td>introexploratoriarobotica</td>\n",
       "      <td>irb1010</td>\n",
       "    </tr>\n",
       "    <tr>\n",
       "      <th>7113</th>\n",
       "      <td>31209</td>\n",
       "      <td>04 - Ingeniería</td>\n",
       "      <td>Diseno de Sistemas Roboticos (</td>\n",
       "      <td>IRB2002</td>\n",
       "      <td>disenodesistemasroboticos</td>\n",
       "      <td>irb2002</td>\n",
       "    </tr>\n",
       "  </tbody>\n",
       "</table>\n",
       "<p>7114 rows × 6 columns</p>\n",
       "</div>"
      ],
      "text/plain": [
       "        NRC           Escuela                    Nombre Curso    Sigla  \\\n",
       "0     18165  06 - Matemáticas                    Probabilidad  EPG3110   \n",
       "1     17316  06 - Matemáticas  Metodos Estadisticos Avanzados  EPG3510   \n",
       "2     19042  06 - Matemáticas  Metodos Estadisticos Avanzados  EPG3530   \n",
       "3     17321  06 - Matemáticas  Metodos Exploratorios y Comput  EPG3730   \n",
       "4     20942  06 - Matemáticas  Actividad Anual de Seguimiento  EPG4010   \n",
       "...     ...               ...                             ...      ...   \n",
       "7109  16271   04 - Ingeniería  Investigacion, Innovacion y Em  ING2030   \n",
       "7110  25592   04 - Ingeniería  Investigacion, Innovacion y Em  ING2030   \n",
       "7111  25595   04 - Ingeniería  Investigacion, Innovacion y Em  ING2030   \n",
       "7112  28541   04 - Ingeniería     Intro exploratoria Robotica  IRB1010   \n",
       "7113  31209   04 - Ingeniería  Diseno de Sistemas Roboticos (  IRB2002   \n",
       "\n",
       "         Nombre Curso (formateado) Sigla (formateado)  \n",
       "0                     probabilidad            epg3110  \n",
       "1     metodosestadisticosavanzados            epg3510  \n",
       "2     metodosestadisticosavanzados            epg3530  \n",
       "3      metodosexploratoriosycomput            epg3730  \n",
       "4      actividadanualdeseguimiento            epg4010  \n",
       "...                            ...                ...  \n",
       "7109    investigacioninnovacionyem            ing2030  \n",
       "7110    investigacioninnovacionyem            ing2030  \n",
       "7111    investigacioninnovacionyem            ing2030  \n",
       "7112     introexploratoriarobotica            irb1010  \n",
       "7113     disenodesistemasroboticos            irb2002  \n",
       "\n",
       "[7114 rows x 6 columns]"
      ]
     },
     "execution_count": 5,
     "metadata": {},
     "output_type": "execute_result"
    }
   ],
   "source": [
    "df_courses_global"
   ]
  },
  {
   "cell_type": "markdown",
   "metadata": {},
   "source": [
    "A continuación se procede a importar y formatear la información de los cursos desde el **catálogo VRAI**"
   ]
  },
  {
   "cell_type": "code",
   "execution_count": 5,
   "metadata": {},
   "outputs": [],
   "source": [
    "cols_courses_vrai = ['NRC', 'Escuela', 'Nombre Curso', 'Sigla']\n",
    "df_courses_vrai = pd.read_excel(df_courses_vrai_file, sheet_name='Catálogo VRAI', dtype=str)[cols_courses_vrai].astype(str)\n",
    "\n",
    "df_courses_vrai[cols_courses_vrai] = df_courses_vrai[cols_courses_vrai].apply(lambda x : x.str.strip())\n",
    "#df_courses_vrai['Nombre Curso'] = df_courses_vrai['Nombre del curso']\n",
    "df_courses_vrai['Nombre Curso (formateado)'] = df_courses_vrai['Nombre Curso'].apply(format_text)\n",
    "df_courses_vrai['Sigla (formateado)'] = df_courses_vrai['Sigla'].apply(format_text)"
   ]
  },
  {
   "cell_type": "markdown",
   "metadata": {},
   "source": [
    "A continuación se procede a importar y formatear la información de los **cursos generales que los estudiantes indicaron** en el formulario"
   ]
  },
  {
   "cell_type": "code",
   "execution_count": 6,
   "metadata": {},
   "outputs": [],
   "source": [
    "cols_students = ['Nombre completo', 'RUT UC', 'Nombre', 'Sigla', 'NRC']\n",
    "df_students = pd.read_excel(df_courses_vrai_file, dtype=str, sheet_name=\"Formularios limpios\")[cols_students].astype(str)\n",
    "\n",
    "df_students[cols_students] = df_students[cols_students].apply(lambda x : x.str.strip())\n",
    "df_students['Nombre Curso (formateado)'] = df_students['Nombre'].apply(format_text)\n",
    "df_students['Sigla (formateado)'] = df_students['Sigla'].apply(format_text)"
   ]
  },
  {
   "cell_type": "markdown",
   "metadata": {},
   "source": [
    "A continuación se procede a importar y formatear la información de los **cursos deportivos que los estudiantes indicaron** en el formulario"
   ]
  },
  {
   "cell_type": "code",
   "execution_count": 13,
   "metadata": {},
   "outputs": [],
   "source": [
    "cols_students_dpt = ['Nombre completo', 'RUT UC', 'Nombre', 'Sigla', 'NRC']\n",
    "df_students_dpt = pd.read_excel(df_courses_vrai_file, dtype=str, sheet_name='Cursos deportivos')[cols_students].astype(str)\n",
    "\n",
    "df_students_dpt[cols_students_dpt] = df_students_dpt[cols_students_dpt].apply(lambda x : x.str.strip())\n",
    "df_students_dpt['Nombre Curso (formateado)'] = df_students_dpt['Nombre'].apply(format_text)\n",
    "df_students_dpt['Sigla (formateado)'] = df_students_dpt['Sigla'].apply(format_text)"
   ]
  },
  {
   "cell_type": "markdown",
   "metadata": {},
   "source": [
    "A continuación se definen las funciones que se encargan de verificar NRC, sigla y nombre de los cursos"
   ]
  },
  {
   "cell_type": "code",
   "execution_count": 7,
   "metadata": {},
   "outputs": [],
   "source": [
    "def verify_nrc(df, course_matches, selected_course_name_format, selected_nrc, obs):\n",
    "    suggested_nrc = ''\n",
    "    course_match_nrc = df.loc[(df['Nombre Curso (formateado)'] == selected_course_name_format) & (df['NRC'] == selected_nrc)]\n",
    "    if not len(course_match_nrc):\n",
    "        if len(course_matches) > 1:\n",
    "            obs += 'ERROR, se requiere revisión. NRC no válido para nombre de curso indicado y existen múltiples secciones.'\n",
    "        else:\n",
    "            suggested_nrc = course_matches['NRC'].values[0]\n",
    "            obs += 'NRC inválido (sección única). '\n",
    "        academic_unit = course_matches['Escuela'].values[0]\n",
    "    else:\n",
    "        academic_unit = course_match_nrc['Escuela'].values[0]\n",
    "    \n",
    "    return obs, suggested_nrc, academic_unit\n",
    "\n",
    "def verify_sigla(df, selected_sigla_format, course_matches, obs, suggested_nrc, selected_nrc, selected_course_name_format):\n",
    "    suggested_sigla = ''\n",
    "    if selected_sigla_format not in course_matches['Sigla (formateado)'].values:\n",
    "        course_match = df.loc[(df['Nombre Curso (formateado)'] == selected_course_name_format) & (df['NRC'].isin([selected_nrc, suggested_nrc]))]\n",
    "        if len(course_match):\n",
    "            suggested_sigla = course_match['Sigla'].values[0]\n",
    "            obs += 'Sigla inválida. '\n",
    "    \n",
    "    return obs, suggested_sigla\n",
    "\n",
    "def verify_name(df, selected_nrc, selected_sigla_format, obs, vrai_check):\n",
    "    suggested_course_name, academic_unit, in_catalogue, suggested_nrc = '', '', '', ''\n",
    "    course_matches = df.loc[df['Sigla (formateado)'] == selected_sigla_format]\n",
    "    if len(course_matches) >= 1:\n",
    "        suggested_course_name, academic_unit = course_matches['Nombre Curso'].values[0], course_matches['Escuela'].values[0]\n",
    "        obs += 'Nombre inválido '\n",
    "        if vrai_check:\n",
    "            in_catalogue = True\n",
    "        else:\n",
    "            in_catalogue = False\n",
    "        \n",
    "        if len(course_matches) == 1:\n",
    "            suggested_nrc = course_matches['NRC'].values[0]\n",
    "            if suggested_nrc == selected_nrc:\n",
    "                obs += '(Sección única y NRC correcto). '\n",
    "                suggested_nrc = ''\n",
    "            else:\n",
    "                obs += '(Sección única y NRC incorrecto). '\n",
    "\n",
    "        else:\n",
    "            obs += '(Múltiples secciones). '\n",
    "\n",
    "\n",
    "    else:\n",
    "        if vrai_check:\n",
    "            in_catalogue = False\n",
    "        else:\n",
    "            obs += 'ERROR, se requiere revisión. No existe un nombre para la sigla indicada. '\n",
    "    \n",
    "    return obs, suggested_course_name, academic_unit, in_catalogue, suggested_nrc\n",
    "\n",
    "def verify_nrc_and_sigla(df, course_matches, selected_course_name_format, selected_sigla_format, selected_nrc, suggested_nrc, obs):\n",
    "    academic_unit = ''\n",
    "    obs, suggested_nrc, academic_unit = verify_nrc(df, course_matches, selected_course_name_format, selected_nrc, obs)\n",
    "    obs, suggested_sigla = verify_sigla(df, selected_sigla_format, course_matches, obs, suggested_nrc, selected_nrc, selected_course_name_format)\n",
    "\n",
    "    return obs, suggested_nrc, suggested_sigla, academic_unit"
   ]
  },
  {
   "cell_type": "markdown",
   "metadata": {},
   "source": [
    "A continuación se encuentra el flujo principal de la automatización"
   ]
  },
  {
   "cell_type": "code",
   "execution_count": 8,
   "metadata": {},
   "outputs": [],
   "source": [
    "def verify_course_info(df, dpt):\n",
    "    columns = ['NOMBRE COMPLETO', 'RUT UC', 'NOMBRE CURSO INDICADO', 'NOMBRE SUGERIDO', 'UNIDAD ACADÉMICA',\n",
    "                'NRC INDICADO', 'NRC SUGERIDO',  'SIGLA INDICADA', 'SIGLA SUGERIDA', 'EN CATÁLOGO VRAI', 'OBSERVACIONES']\n",
    "    df_output = pd.DataFrame(columns=columns)\n",
    "\n",
    "    for index, row in df.iterrows():\n",
    "        selected_course_name, selected_course_name_format = row['Nombre'], row['Nombre Curso (formateado)']\n",
    "        selected_sigla, selected_sigla_format, selected_nrc = row['Sigla'], row['Sigla (formateado)'], row['NRC']\n",
    "        student_name, rut_uc = row['Nombre completo'], row['RUT UC']\n",
    "        suggested_course_name, suggested_nrc, suggested_sigla, academic_unit, obs, in_vrai_catalogue = '', '', '', '', '', ''\n",
    "\n",
    "        # Se comienza chequeando si el nombre del curso coincide con alguno del catálogo\n",
    "        course_matches = df_courses_vrai.loc[df_courses_vrai['Nombre Curso (formateado)'] == selected_course_name_format]\n",
    "\n",
    "        # En caso de que el chequeo de nombre arroje coincidencias, se procede a verificiar NRC y/o sigla\n",
    "        if len(course_matches):\n",
    "            academic_unit = course_matches['Escuela'].values[0]\n",
    "            in_vrai_catalogue = True\n",
    "            obs, suggested_nrc, suggested_sigla, academic_unit = verify_nrc_and_sigla(df_courses_vrai, course_matches, \n",
    "                                                                                selected_course_name_format, selected_sigla_format, \n",
    "                                                                                selected_nrc, suggested_nrc, obs)\n",
    "            \n",
    "        # En caso de que el chequeo de nombre no arroje coincidencias, se procede a verificiar el nombre del curso\n",
    "        else:\n",
    "            obs, suggested_course_name, academic_unit, in_vrai_catalogue, suggested_nrc = verify_name(df_courses_vrai, selected_nrc, selected_sigla_format, obs, True)\n",
    "            if not in_vrai_catalogue:\n",
    "                course_matches = df_courses_global.loc[df_courses_global['Nombre Curso (formateado)'] == selected_course_name_format]\n",
    "                if len(course_matches):\n",
    "                    academic_unit = course_matches['Escuela'].values[0]\n",
    "                    obs, suggested_nrc, suggested_sigla, academic_unit = verify_nrc_and_sigla(df_courses_global, course_matches, selected_course_name_format, \n",
    "                                                                                        selected_sigla_format, selected_nrc, suggested_nrc, obs)\n",
    "                else:\n",
    "                    obs, suggested_course_name, academic_unit, in_vrai_catalogue, suggested_nrc = verify_name(df_courses_global, selected_nrc, selected_sigla_format, obs, False)\n",
    "            \n",
    "        df_output.loc[len(df_output)] = [student_name, rut_uc, selected_course_name, suggested_course_name, \n",
    "                                        academic_unit, selected_nrc, suggested_nrc, selected_sigla, suggested_sigla, in_vrai_catalogue, obs]\n",
    "\n",
    "    if dpt:\n",
    "        df_output.to_csv('output_dpt.csv', index=False)\n",
    "    else:\n",
    "        df_output.to_csv('output.csv', index=False)"
   ]
  },
  {
   "cell_type": "code",
   "execution_count": 9,
   "metadata": {},
   "outputs": [],
   "source": [
    "verify_course_info(df_students, dpt=False)\n",
    "\n",
    "# Descomentar la línea siguiente si se desea hacer la revisión para cursos deportivos\n",
    "#verify_course_info(df_students_dpt, dpt=True)"
   ]
  }
 ],
 "metadata": {
  "kernelspec": {
   "display_name": "Python 3",
   "language": "python",
   "name": "python3"
  },
  "language_info": {
   "codemirror_mode": {
    "name": "ipython",
    "version": 3
   },
   "file_extension": ".py",
   "mimetype": "text/x-python",
   "name": "python",
   "nbconvert_exporter": "python",
   "pygments_lexer": "ipython3",
   "version": "3.12.7"
  }
 },
 "nbformat": 4,
 "nbformat_minor": 2
}
