{
 "cells": [
  {
   "cell_type": "code",
   "execution_count": 3,
   "metadata": {},
   "outputs": [
    {
     "name": "stdout",
     "output_type": "stream",
     "text": [
      "Requirement already satisfied: unidecode in c:\\users\\ignac\\appdata\\local\\programs\\python\\python38\\lib\\site-packages (1.3.8)Note: you may need to restart the kernel to use updated packages.\n",
      "\n"
     ]
    },
    {
     "name": "stderr",
     "output_type": "stream",
     "text": [
      "WARNING: You are using pip version 21.2.4; however, version 24.3.1 is available.\n",
      "You should consider upgrading via the 'c:\\Users\\ignac\\AppData\\Local\\Programs\\Python\\Python38\\python.exe -m pip install --upgrade pip' command.\n"
     ]
    },
    {
     "name": "stdout",
     "output_type": "stream",
     "text": [
      "Requirement already satisfied: pandas in c:\\users\\ignac\\appdata\\local\\programs\\python\\python38\\lib\\site-packages (1.5.0)\n",
      "Requirement already satisfied: pytz>=2020.1 in c:\\users\\ignac\\appdata\\local\\programs\\python\\python38\\lib\\site-packages (from pandas) (2021.1)\n",
      "Requirement already satisfied: numpy>=1.20.3 in c:\\users\\ignac\\appdata\\local\\programs\\python\\python38\\lib\\site-packages (from pandas) (1.23.2)\n",
      "Requirement already satisfied: python-dateutil>=2.8.1 in c:\\users\\ignac\\appdata\\local\\programs\\python\\python38\\lib\\site-packages (from pandas) (2.8.1)\n",
      "Requirement already satisfied: six>=1.5 in c:\\users\\ignac\\appdata\\local\\programs\\python\\python38\\lib\\site-packages (from python-dateutil>=2.8.1->pandas) (1.16.0)\n",
      "Note: you may need to restart the kernel to use updated packages.\n"
     ]
    },
    {
     "name": "stderr",
     "output_type": "stream",
     "text": [
      "WARNING: You are using pip version 21.2.4; however, version 24.3.1 is available.\n",
      "You should consider upgrading via the 'c:\\Users\\ignac\\AppData\\Local\\Programs\\Python\\Python38\\python.exe -m pip install --upgrade pip' command.\n"
     ]
    }
   ],
   "source": [
    "# Instalación de paquetes requeridos\n",
    "%pip install unidecode\n",
    "%pip install pandas"
   ]
  },
  {
   "cell_type": "code",
   "execution_count": 1,
   "metadata": {},
   "outputs": [],
   "source": [
    "# Importar paquetes requeridos\n",
    "import pandas as pd\n",
    "from unidecode import unidecode\n",
    "from re import sub"
   ]
  },
  {
   "cell_type": "code",
   "execution_count": 2,
   "metadata": {},
   "outputs": [],
   "source": [
    "# Definición de función que permite dejar los nombres de los cursos en un formato adecuado\n",
    "def format_text(input_string):\n",
    "    no_a = unidecode(str(input_string)) # Eliminar tildes\n",
    "    no_sc = sub('[^a-zA-Z0-9]+', '', no_a) # Eliminar caracteres especiales\n",
    "    return no_sc.lower().strip().replace(' ', '') # Eliminar espacios y pasar todo a minúscula\n",
    "\n",
    "# Definición de función que permite dejar las siglas de los cursos en un formato adecuado\n",
    "def format_course_number(input_string):\n",
    "    if len(input_string) == 1: # Si el número de curso tiene 1 dígito. Ej. COM1\n",
    "        return f'00{input_string}' # Agrega dos ceros. Ej. COM001\n",
    "\n",
    "    elif len(input_string) == 2: # Si el número de curso tiene 2 dígitos. Ej. COM01\n",
    "        return f'0{input_string}' # Agrega un cero. Ej. COM001\n",
    "    return input_string"
   ]
  },
  {
   "cell_type": "markdown",
   "metadata": {},
   "source": [
    "**Especificar a continuación los nombres de los archivos conteniendo el catálogo cognos y el catálogo VRAI junto con las respuestas del formulario**"
   ]
  },
  {
   "cell_type": "code",
   "execution_count": 3,
   "metadata": {},
   "outputs": [],
   "source": [
    "df_courses_global_file = 'Cursos programados 2024_FINAL.xlsx'\n",
    "df_courses_vrai_file = '3. Formulario preselección de cursos intercambio 2024-2. (1-13)_REZAGADOS.xlsx'"
   ]
  },
  {
   "cell_type": "markdown",
   "metadata": {},
   "source": [
    "A continuación se procede a importar y formatear la información de los cursos desde el **catálogo cognos** (que contiene todos los cursos a dictar)"
   ]
  },
  {
   "cell_type": "code",
   "execution_count": 4,
   "metadata": {},
   "outputs": [],
   "source": [
    "cols_courses_global = ['NRC', 'Escuela', 'Materia', 'Número Curso', 'Nombre Curso']\n",
    "df_courses_global = pd.read_excel(df_courses_global_file, sheet_name='Hoja2', dtype=str)[cols_courses_global].astype(str)\n",
    "\n",
    "df_courses_global[cols_courses_global] = df_courses_global[cols_courses_global].apply(lambda x : x.str.strip())\n",
    "df_courses_global['Número Curso'] = df_courses_global['Número Curso'].apply(format_course_number)\n",
    "df_courses_global['Sigla'] = df_courses_global['Materia'] + df_courses_global['Número Curso']\n",
    "df_courses_global = df_courses_global.drop(['Materia', 'Número Curso'], axis=1)\n",
    "df_courses_global['Nombre Curso (formateado)'] = df_courses_global['Nombre Curso'].apply(format_text)\n",
    "df_courses_global['Sigla (formateado)'] = df_courses_global['Sigla'].apply(format_text)"
   ]
  },
  {
   "cell_type": "code",
   "execution_count": 5,
   "metadata": {},
   "outputs": [
    {
     "data": {
      "text/html": [
       "<div>\n",
       "<style scoped>\n",
       "    .dataframe tbody tr th:only-of-type {\n",
       "        vertical-align: middle;\n",
       "    }\n",
       "\n",
       "    .dataframe tbody tr th {\n",
       "        vertical-align: top;\n",
       "    }\n",
       "\n",
       "    .dataframe thead th {\n",
       "        text-align: right;\n",
       "    }\n",
       "</style>\n",
       "<table border=\"1\" class=\"dataframe\">\n",
       "  <thead>\n",
       "    <tr style=\"text-align: right;\">\n",
       "      <th></th>\n",
       "      <th>NRC</th>\n",
       "      <th>Escuela</th>\n",
       "      <th>Nombre Curso</th>\n",
       "      <th>Sigla</th>\n",
       "      <th>Nombre Curso (formateado)</th>\n",
       "      <th>Sigla (formateado)</th>\n",
       "    </tr>\n",
       "  </thead>\n",
       "  <tbody>\n",
       "    <tr>\n",
       "      <th>0</th>\n",
       "      <td>27396</td>\n",
       "      <td>33 - Arte</td>\n",
       "      <td>Semin de Invest en Art Visuale</td>\n",
       "      <td>ART4000</td>\n",
       "      <td>semindeinvestenartvisuale</td>\n",
       "      <td>art4000</td>\n",
       "    </tr>\n",
       "    <tr>\n",
       "      <th>1</th>\n",
       "      <td>25088</td>\n",
       "      <td>33 - Arte</td>\n",
       "      <td>Teoria y Problematicas Contemp</td>\n",
       "      <td>ART4001</td>\n",
       "      <td>teoriayproblematicascontemp</td>\n",
       "      <td>art4001</td>\n",
       "    </tr>\n",
       "    <tr>\n",
       "      <th>2</th>\n",
       "      <td>10551</td>\n",
       "      <td>33 - Arte</td>\n",
       "      <td>Coloquio 2</td>\n",
       "      <td>FAR4001</td>\n",
       "      <td>coloquio2</td>\n",
       "      <td>far4001</td>\n",
       "    </tr>\n",
       "    <tr>\n",
       "      <th>3</th>\n",
       "      <td>14624</td>\n",
       "      <td>33 - Arte</td>\n",
       "      <td>Coloquio 4</td>\n",
       "      <td>FAR4003</td>\n",
       "      <td>coloquio4</td>\n",
       "      <td>far4003</td>\n",
       "    </tr>\n",
       "    <tr>\n",
       "      <th>4</th>\n",
       "      <td>10558</td>\n",
       "      <td>33 - Arte</td>\n",
       "      <td>Practica Artistica e Investiga</td>\n",
       "      <td>FAR4004</td>\n",
       "      <td>practicaartisticaeinvestiga</td>\n",
       "      <td>far4004</td>\n",
       "    </tr>\n",
       "    <tr>\n",
       "      <th>...</th>\n",
       "      <td>...</td>\n",
       "      <td>...</td>\n",
       "      <td>...</td>\n",
       "      <td>...</td>\n",
       "      <td>...</td>\n",
       "      <td>...</td>\n",
       "    </tr>\n",
       "    <tr>\n",
       "      <th>6809</th>\n",
       "      <td>28395</td>\n",
       "      <td>91 - Sociología</td>\n",
       "      <td>Sociologia del Trabajo</td>\n",
       "      <td>SOL405</td>\n",
       "      <td>sociologiadeltrabajo</td>\n",
       "      <td>sol405</td>\n",
       "    </tr>\n",
       "    <tr>\n",
       "      <th>6810</th>\n",
       "      <td>31219</td>\n",
       "      <td>91 - Sociología</td>\n",
       "      <td>Cultura Moderna de Occidente</td>\n",
       "      <td>SOL503</td>\n",
       "      <td>culturamodernadeoccidente</td>\n",
       "      <td>sol503</td>\n",
       "    </tr>\n",
       "    <tr>\n",
       "      <th>6811</th>\n",
       "      <td>31231</td>\n",
       "      <td>91 - Sociología</td>\n",
       "      <td>Cultura Moderna de Occidente</td>\n",
       "      <td>SOL503</td>\n",
       "      <td>culturamodernadeoccidente</td>\n",
       "      <td>sol503</td>\n",
       "    </tr>\n",
       "    <tr>\n",
       "      <th>6812</th>\n",
       "      <td>31205</td>\n",
       "      <td>91 - Sociología</td>\n",
       "      <td>Teorias Sociales Fundacionales</td>\n",
       "      <td>SOL504</td>\n",
       "      <td>teoriassocialesfundacionales</td>\n",
       "      <td>sol504</td>\n",
       "    </tr>\n",
       "    <tr>\n",
       "      <th>6813</th>\n",
       "      <td>31217</td>\n",
       "      <td>91 - Sociología</td>\n",
       "      <td>Teorias Sociales Fundacionales</td>\n",
       "      <td>SOL504</td>\n",
       "      <td>teoriassocialesfundacionales</td>\n",
       "      <td>sol504</td>\n",
       "    </tr>\n",
       "  </tbody>\n",
       "</table>\n",
       "<p>6814 rows × 6 columns</p>\n",
       "</div>"
      ],
      "text/plain": [
       "        NRC          Escuela                    Nombre Curso    Sigla  \\\n",
       "0     27396        33 - Arte  Semin de Invest en Art Visuale  ART4000   \n",
       "1     25088        33 - Arte  Teoria y Problematicas Contemp  ART4001   \n",
       "2     10551        33 - Arte                      Coloquio 2  FAR4001   \n",
       "3     14624        33 - Arte                      Coloquio 4  FAR4003   \n",
       "4     10558        33 - Arte  Practica Artistica e Investiga  FAR4004   \n",
       "...     ...              ...                             ...      ...   \n",
       "6809  28395  91 - Sociología          Sociologia del Trabajo   SOL405   \n",
       "6810  31219  91 - Sociología    Cultura Moderna de Occidente   SOL503   \n",
       "6811  31231  91 - Sociología    Cultura Moderna de Occidente   SOL503   \n",
       "6812  31205  91 - Sociología  Teorias Sociales Fundacionales   SOL504   \n",
       "6813  31217  91 - Sociología  Teorias Sociales Fundacionales   SOL504   \n",
       "\n",
       "         Nombre Curso (formateado) Sigla (formateado)  \n",
       "0        semindeinvestenartvisuale            art4000  \n",
       "1      teoriayproblematicascontemp            art4001  \n",
       "2                        coloquio2            far4001  \n",
       "3                        coloquio4            far4003  \n",
       "4      practicaartisticaeinvestiga            far4004  \n",
       "...                            ...                ...  \n",
       "6809          sociologiadeltrabajo             sol405  \n",
       "6810     culturamodernadeoccidente             sol503  \n",
       "6811     culturamodernadeoccidente             sol503  \n",
       "6812  teoriassocialesfundacionales             sol504  \n",
       "6813  teoriassocialesfundacionales             sol504  \n",
       "\n",
       "[6814 rows x 6 columns]"
      ]
     },
     "execution_count": 5,
     "metadata": {},
     "output_type": "execute_result"
    }
   ],
   "source": [
    "df_courses_global"
   ]
  },
  {
   "cell_type": "markdown",
   "metadata": {},
   "source": [
    "A continuación se procede a importar y formatear la información de los cursos desde el **catálogo VRAI**"
   ]
  },
  {
   "cell_type": "code",
   "execution_count": 11,
   "metadata": {},
   "outputs": [],
   "source": [
    "cols_courses_vrai = ['NRC', 'Escuela', 'Nombre del curso', 'Sigla']\n",
    "df_courses_vrai = pd.read_excel(df_courses_vrai_file, sheet_name='Catálogo VRAI', dtype=str)[cols_courses_vrai].astype(str)\n",
    "\n",
    "df_courses_vrai[cols_courses_vrai] = df_courses_vrai[cols_courses_vrai].apply(lambda x : x.str.strip())\n",
    "df_courses_vrai['Nombre Curso'] = df_courses_vrai['Nombre del curso']\n",
    "df_courses_vrai['Nombre Curso (formateado)'] = df_courses_vrai['Nombre Curso'].apply(format_text)\n",
    "df_courses_vrai['Sigla (formateado)'] = df_courses_vrai['Sigla'].apply(format_text)"
   ]
  },
  {
   "cell_type": "markdown",
   "metadata": {},
   "source": [
    "A continuación se procede a importar y formatear la información de los **cursos generales que los estudiantes indicaron** en el formulario"
   ]
  },
  {
   "cell_type": "code",
   "execution_count": 12,
   "metadata": {},
   "outputs": [],
   "source": [
    "cols_students = ['Nombre completo', 'RUT UC', 'Nombre', 'Sigla', 'NRC']\n",
    "df_students = pd.read_excel(df_courses_vrai_file, dtype=str, sheet_name=\"Cursos generales\")[cols_students].astype(str)\n",
    "\n",
    "df_students[cols_students] = df_students[cols_students].apply(lambda x : x.str.strip())\n",
    "df_students['Nombre Curso (formateado)'] = df_students['Nombre'].apply(format_text)\n",
    "df_students['Sigla (formateado)'] = df_students['Sigla'].apply(format_text)"
   ]
  },
  {
   "cell_type": "markdown",
   "metadata": {},
   "source": [
    "A continuación se procede a importar y formatear la información de los **cursos deportivos que los estudiantes indicaron** en el formulario"
   ]
  },
  {
   "cell_type": "code",
   "execution_count": 13,
   "metadata": {},
   "outputs": [],
   "source": [
    "cols_students_dpt = ['Nombre completo', 'RUT UC', 'Nombre', 'Sigla', 'NRC']\n",
    "df_students_dpt = pd.read_excel(df_courses_vrai_file, dtype=str, sheet_name='Cursos deportivos')[cols_students].astype(str)\n",
    "\n",
    "df_students_dpt[cols_students_dpt] = df_students_dpt[cols_students_dpt].apply(lambda x : x.str.strip())\n",
    "df_students_dpt['Nombre Curso (formateado)'] = df_students_dpt['Nombre'].apply(format_text)\n",
    "df_students_dpt['Sigla (formateado)'] = df_students_dpt['Sigla'].apply(format_text)"
   ]
  },
  {
   "cell_type": "markdown",
   "metadata": {},
   "source": [
    "A continuación se definen las funciones que se encargan de verificar NRC, sigla y nombre de los cursos"
   ]
  },
  {
   "cell_type": "code",
   "execution_count": 15,
   "metadata": {},
   "outputs": [],
   "source": [
    "def verify_nrc(df, course_matches, selected_course_name_format, selected_nrc, obs):\n",
    "    suggested_nrc = ''\n",
    "    course_match_nrc = df.loc[(df['Nombre Curso (formateado)'] == selected_course_name_format) & (df['NRC'] == selected_nrc)]\n",
    "    if not len(course_match_nrc):\n",
    "        if len(course_matches) > 1:\n",
    "            obs += 'ERROR, se requiere revisión. NRC no válido para nombre de curso indicado y existen múltiples secciones.'\n",
    "        else:\n",
    "            suggested_nrc = course_matches['NRC'].values[0]\n",
    "            obs += 'NRC inválido (sección única). '\n",
    "        academic_unit = course_matches['Escuela'].values[0]\n",
    "    else:\n",
    "        academic_unit = course_match_nrc['Escuela'].values[0]\n",
    "    \n",
    "    return obs, suggested_nrc, academic_unit\n",
    "\n",
    "def verify_sigla(df, selected_sigla_format, course_matches, obs, suggested_nrc, selected_nrc, selected_course_name_format):\n",
    "    suggested_sigla = ''\n",
    "    if selected_sigla_format not in course_matches['Sigla (formateado)'].values:\n",
    "        course_match = df.loc[(df['Nombre Curso (formateado)'] == selected_course_name_format) & (df['NRC'].isin([selected_nrc, suggested_nrc]))]\n",
    "        if len(course_match):\n",
    "            suggested_sigla = course_match['Sigla'].values[0]\n",
    "            obs += 'Sigla inválida. '\n",
    "    \n",
    "    return obs, suggested_sigla\n",
    "\n",
    "def verify_name(df, selected_nrc, selected_sigla_format, obs, vrai_check):\n",
    "    suggested_course_name, academic_unit, in_catalogue = '', '', ''\n",
    "    course_match = df.loc[(df['NRC'] == selected_nrc) & (df['Sigla (formateado)'] == selected_sigla_format)]\n",
    "    if len(course_match) == 1:\n",
    "        suggested_course_name, academic_unit = course_match['Nombre Curso'].values[0], course_match['Escuela'].values[0]\n",
    "        obs += 'Nombre inválido. '\n",
    "        if vrai_check:\n",
    "            in_catalogue = True\n",
    "        else:\n",
    "            in_catalogue = False\n",
    "    else:\n",
    "        if vrai_check:\n",
    "            in_catalogue = False\n",
    "        else:\n",
    "            obs += 'ERROR, se requiere revisión. No existe un nombre para NRC y sigla indicados. '\n",
    "    \n",
    "    return obs, suggested_course_name, academic_unit, in_catalogue\n",
    "\n",
    "def verify_nrc_and_sigla(df, course_matches, selected_course_name_format, selected_sigla_format, selected_nrc, suggested_nrc, obs):\n",
    "    academic_unit = ''\n",
    "    obs, suggested_nrc, academic_unit = verify_nrc(df, course_matches, selected_course_name_format, selected_nrc, obs)\n",
    "    obs, suggested_sigla = verify_sigla(df, selected_sigla_format, course_matches, obs, suggested_nrc, selected_nrc, selected_course_name_format)\n",
    "\n",
    "    return obs, suggested_nrc, suggested_sigla, academic_unit"
   ]
  },
  {
   "cell_type": "markdown",
   "metadata": {},
   "source": [
    "A continuación se encuentra el flujo principal de la automatización"
   ]
  },
  {
   "cell_type": "code",
   "execution_count": 16,
   "metadata": {},
   "outputs": [],
   "source": [
    "def verify_course_info(df, dpt):\n",
    "    columns = ['NOMBRE COMPLETO', 'RUT UC', 'NOMBRE CURSO INDICADO', 'NOMBRE SUGERIDO', 'UNIDAD ACADÉMICA',\n",
    "                'NRC INDICADO', 'NRC SUGERIDO',  'SIGLA INDICADA', 'SIGLA SUGERIDA', 'EN CATÁLOGO VRAI', 'OBSERVACIONES']\n",
    "    df_output = pd.DataFrame(columns=columns)\n",
    "\n",
    "    for index, row in df.iterrows():\n",
    "        selected_course_name, selected_course_name_format = row['Nombre'], row['Nombre Curso (formateado)']\n",
    "        selected_sigla, selected_sigla_format, selected_nrc = row['Sigla'], row['Sigla (formateado)'], row['NRC']\n",
    "        student_name, rut_uc = row['Nombre completo'], row['RUT UC']\n",
    "        suggested_course_name, suggested_nrc, suggested_sigla, academic_unit, obs, in_vrai_catalogue = '', '', '', '', '', ''\n",
    "\n",
    "        # Se comienza chequeando si el nombre del curso coincide con alguno del catálogo\n",
    "        course_matches = df_courses_vrai.loc[df_courses_vrai['Nombre Curso (formateado)'] == selected_course_name_format]\n",
    "\n",
    "        # En caso de que el chequeo de nombre arroje coincidencias, se procede a verificiar NRC y/o sigla\n",
    "        if len(course_matches):\n",
    "            academic_unit = course_matches['Escuela'].values[0]\n",
    "            in_vrai_catalogue = True\n",
    "            obs, suggested_nrc, suggested_sigla, academic_unit = verify_nrc_and_sigla(df_courses_vrai, course_matches, \n",
    "                                                                                selected_course_name_format, selected_sigla_format, \n",
    "                                                                                selected_nrc, suggested_nrc, obs)\n",
    "            \n",
    "        # En caso de que el chequeo de nombre no arroje coincidencias, se procede a verificiar el nombre del curso\n",
    "        else:\n",
    "            obs, suggested_course_name, academic_unit, in_vrai_catalogue = verify_name(df_courses_vrai, selected_nrc, selected_sigla_format, obs, True)\n",
    "            if not in_vrai_catalogue:\n",
    "                course_matches = df_courses_global.loc[df_courses_global['Nombre Curso (formateado)'] == selected_course_name_format]\n",
    "                if len(course_matches):\n",
    "                    academic_unit = course_matches['Escuela'].values[0]\n",
    "                    obs, suggested_nrc, suggested_sigla, academic_unit = verify_nrc_and_sigla(df_courses_global, course_matches, selected_course_name_format, \n",
    "                                                                                        selected_sigla_format, selected_nrc, suggested_nrc, obs)\n",
    "                else:\n",
    "                    obs, suggested_course_name, academic_unit, in_vrai_catalogue = verify_name(df_courses_global, selected_nrc, selected_sigla_format, obs, False)\n",
    "            \n",
    "        df_output.loc[len(df_output)] = [student_name, rut_uc, selected_course_name, suggested_course_name, \n",
    "                                        academic_unit, selected_nrc, suggested_nrc, selected_sigla, suggested_sigla, in_vrai_catalogue, obs]\n",
    "\n",
    "    if dpt:\n",
    "        df_output.to_csv('output_dpt.csv', index=False)\n",
    "    else:\n",
    "        df_output.to_csv('output.csv', index=False)"
   ]
  },
  {
   "cell_type": "code",
   "execution_count": 17,
   "metadata": {},
   "outputs": [],
   "source": [
    "verify_course_info(df_students, dpt=False)\n",
    "\n",
    "# Descomentar la línea siguiente si se desea hacer la revisión para cursos deportivos\n",
    "# verify_course_info(df_students_dpt, dpt=True)"
   ]
  }
 ],
 "metadata": {
  "kernelspec": {
   "display_name": "Python 3",
   "language": "python",
   "name": "python3"
  },
  "language_info": {
   "codemirror_mode": {
    "name": "ipython",
    "version": 3
   },
   "file_extension": ".py",
   "mimetype": "text/x-python",
   "name": "python",
   "nbconvert_exporter": "python",
   "pygments_lexer": "ipython3",
   "version": "3.12.7"
  }
 },
 "nbformat": 4,
 "nbformat_minor": 2
}
