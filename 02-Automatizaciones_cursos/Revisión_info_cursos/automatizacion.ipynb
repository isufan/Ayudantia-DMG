{
 "cells": [
  {
   "cell_type": "code",
   "execution_count": 1,
   "metadata": {},
   "outputs": [],
   "source": [
    "import pandas as pd\n",
    "from unidecode import unidecode\n",
    "from re import sub\n",
    "\n",
    "def format_text(input_string):\n",
    "    no_a = unidecode(str(input_string)) # Eliminar tildes\n",
    "    no_sc = sub('[^a-zA-Z0-9]+', '', no_a) # Eliminar caracteres especiales\n",
    "    return no_sc.lower().strip().replace(' ', '') # Eliminar espacios y pasar todo a minúscula\n",
    "\n",
    "def format_course_number(input_string):\n",
    "    if len(input_string) == 1: # Si el número de curso tiene 1 dígito. Ej. COM1\n",
    "        return f'00{input_string}' # Agrega dos ceros. Ej. COM001\n",
    "\n",
    "    elif len(input_string) == 2: # Si el número de curso tiene 2 dígitos. Ej. COM01\n",
    "        return f'0{input_string}' # Agrega un cero. Ej. COM001\n",
    "    return input_string"
   ]
  },
  {
   "cell_type": "code",
   "execution_count": 2,
   "metadata": {},
   "outputs": [],
   "source": [
    "cols_courses_global = ['NRC', 'Escuela', 'Materia', 'Número Curso', 'Nombre Curso']\n",
    "df_courses_global = pd.read_excel('Cursos programados 2024_FINAL.xlsx', sheet_name='Hoja2', dtype=str)[cols_courses_global].astype(str)\n",
    "\n",
    "df_courses_global[cols_courses_global] = df_courses_global[cols_courses_global].apply(lambda x : x.str.strip())\n",
    "\n",
    "df_courses_global['Número Curso'] = df_courses_global['Número Curso'].apply(format_course_number)\n",
    "df_courses_global['Sigla'] = df_courses_global['Materia'] + df_courses_global['Número Curso']\n",
    "df_courses_global = df_courses_global.drop(['Materia', 'Número Curso'], axis=1)\n",
    "\n",
    "df_courses_global['Nombre Curso (formateado)'] = df_courses_global['Nombre Curso'].apply(format_text)\n",
    "df_courses_global['Sigla (formateado)'] = df_courses_global['Sigla'].apply(format_text)"
   ]
  },
  {
   "cell_type": "code",
   "execution_count": 5,
   "metadata": {},
   "outputs": [],
   "source": [
    "cols_courses_vrai = ['NRC', 'Escuela', 'Nombre Curso', 'Sigla']\n",
    "df_courses_vrai = pd.read_excel('3. Formulario preselección de cursos intercambio 2024-2. (1-13)_REZAGADOS.xlsx', sheet_name='Catálogo VRAI', dtype=str)[cols_courses_vrai].astype(str)\n",
    "\n",
    "df_courses_vrai[cols_courses_vrai] = df_courses_vrai[cols_courses_vrai].apply(lambda x : x.str.strip())\n",
    "df_courses_vrai['Nombre Curso (formateado)'] = df_courses_vrai['Nombre Curso'].apply(format_text)\n",
    "df_courses_vrai['Sigla (formateado)'] = df_courses_vrai['Sigla'].apply(format_text)"
   ]
  },
  {
   "cell_type": "code",
   "execution_count": 7,
   "metadata": {},
   "outputs": [],
   "source": [
    "cols_students = ['Nombre completo', 'RUT UC', 'Nombre', 'Sigla', 'NRC']\n",
    "df_students = pd.read_excel('3. Formulario preselección de cursos intercambio 2024-2. (1-13)_REZAGADOS.xlsx', dtype=str, sheet_name=\"Cursos generales\")[cols_students].astype(str)\n",
    "\n",
    "df_students[cols_students] = df_students[cols_students].apply(lambda x : x.str.strip())\n",
    "df_students['Nombre Curso (formateado)'] = df_students['Nombre'].apply(format_text)\n",
    "df_students['Sigla (formateado)'] = df_students['Sigla'].apply(format_text)"
   ]
  },
  {
   "cell_type": "code",
   "execution_count": 9,
   "metadata": {},
   "outputs": [],
   "source": [
    "cols_students_dpt = ['Nombre completo', 'RUT UC', 'Nombre', 'Sigla', 'NRC']\n",
    "df_students_dpt = pd.read_excel('3. Formulario preselección de cursos intercambio 2024-2. (1-13)_REZAGADOS.xlsx', dtype=str, sheet_name='Cursos deportivos')[cols_students].astype(str)\n",
    "\n",
    "df_students_dpt[cols_students_dpt] = df_students_dpt[cols_students_dpt].apply(lambda x : x.str.strip())\n",
    "df_students_dpt['Nombre Curso (formateado)'] = df_students_dpt['Nombre'].apply(format_text)\n",
    "df_students_dpt['Sigla (formateado)'] = df_students_dpt['Sigla'].apply(format_text)"
   ]
  },
  {
   "cell_type": "markdown",
   "metadata": {},
   "source": [
    "EN CATALOGO O NO"
   ]
  },
  {
   "cell_type": "code",
   "execution_count": 16,
   "metadata": {},
   "outputs": [],
   "source": [
    "def verify_nrc(df, course_matches, selected_course_name_format, selected_nrc, obs):\n",
    "    suggested_nrc = ''\n",
    "    course_match_nrc = df.loc[(df['Nombre Curso (formateado)'] == selected_course_name_format) & (df['NRC'] == selected_nrc)]\n",
    "    if not len(course_match_nrc):\n",
    "        if len(course_matches) > 1:\n",
    "            obs += 'ERROR, se requiere revisión. NRC no válido para nombre de curso indicado y existen múltiples secciones.'\n",
    "        else:\n",
    "            suggested_nrc = course_matches['NRC'].values[0]\n",
    "            obs += 'NRC inválido (sección única). '\n",
    "        academic_unit = course_matches['Escuela'].values[0]\n",
    "    else:\n",
    "        academic_unit = course_match_nrc['Escuela'].values[0]\n",
    "    \n",
    "    return obs, suggested_nrc, academic_unit\n",
    "\n",
    "def verify_sigla(df, selected_sigla_format, course_matches, obs, suggested_nrc, selected_nrc, selected_course_name_format):\n",
    "    suggested_sigla = ''\n",
    "    if selected_sigla_format not in course_matches['Sigla (formateado)'].values:\n",
    "        course_match = df.loc[(df['Nombre Curso (formateado)'] == selected_course_name_format) & (df['NRC'].isin([selected_nrc, suggested_nrc]))]\n",
    "        if len(course_match):\n",
    "            suggested_sigla = course_match['Sigla'].values[0]\n",
    "            obs += 'Sigla inválida. '\n",
    "    \n",
    "    return obs, suggested_sigla\n",
    "\n",
    "def verify_name(df, selected_nrc, selected_sigla_format, obs, vrai_check):\n",
    "    suggested_course_name, academic_unit, in_catalogue = '', '', ''\n",
    "    course_match = df.loc[(df['NRC'] == selected_nrc) & (df['Sigla (formateado)'] == selected_sigla_format)]\n",
    "    if len(course_match) == 1:\n",
    "        suggested_course_name, academic_unit = course_match['Nombre Curso'].values[0], course_match['Escuela'].values[0]\n",
    "        obs += 'Nombre inválido. '\n",
    "        if vrai_check:\n",
    "            in_catalogue = True\n",
    "        else:\n",
    "            in_catalogue = False\n",
    "    else:\n",
    "        if vrai_check:\n",
    "            in_catalogue = False\n",
    "        else:\n",
    "            obs += 'ERROR, se requiere revisión. No existe un nombre para NRC y sigla indicados. '\n",
    "    \n",
    "    return obs, suggested_course_name, academic_unit, in_catalogue\n",
    "\n",
    "def verify_nrc_and_sigla(df, course_matches, selected_course_name_format, selected_sigla_format, selected_nrc, suggested_nrc, obs):\n",
    "    academic_unit = ''\n",
    "    obs, suggested_nrc, academic_unit = verify_nrc(df, course_matches, selected_course_name_format, selected_nrc, obs)\n",
    "    obs, suggested_sigla = verify_sigla(df, selected_sigla_format, course_matches, obs, suggested_nrc, selected_nrc, selected_course_name_format)\n",
    "\n",
    "    return obs, suggested_nrc, suggested_sigla, academic_unit"
   ]
  },
  {
   "cell_type": "code",
   "execution_count": 17,
   "metadata": {},
   "outputs": [],
   "source": [
    "def verify_course_info(df, dpt):\n",
    "    columns = ['NOMBRE COMPLETO', 'RUT UC', 'NOMBRE CURSO INDICADO', 'NOMBRE SUGERIDO', 'UNIDAD ACADÉMICA',\n",
    "                'NRC INDICADO', 'NRC SUGERIDO',  'SIGLA INDICADA', 'SIGLA SUGERIDA', 'EN CATÁLOGO VRAI', 'OBSERVACIONES']\n",
    "    df_output = pd.DataFrame(columns=columns)\n",
    "\n",
    "    for index, row in df.iterrows():\n",
    "        selected_course_name, selected_course_name_format = row['Nombre'], row['Nombre Curso (formateado)']\n",
    "        selected_sigla, selected_sigla_format, selected_nrc = row['Sigla'], row['Sigla (formateado)'], row['NRC']\n",
    "        student_name, rut_uc = row['Nombre completo'], row['RUT UC']\n",
    "        suggested_course_name, suggested_nrc, suggested_sigla, academic_unit, obs, in_vrai_catalogue = '', '', '', '', '', ''\n",
    "\n",
    "        course_matches = df_courses_vrai.loc[df_courses_vrai['Nombre Curso (formateado)'] == selected_course_name_format]\n",
    "\n",
    "        # MODIFICAR NRC O SIGLA\n",
    "        if len(course_matches):\n",
    "            academic_unit = course_matches['Escuela'].values[0]\n",
    "            in_vrai_catalogue = True\n",
    "            obs, suggested_nrc, suggested_sigla, academic_unit = verify_nrc_and_sigla(df_courses_vrai, course_matches, \n",
    "                                                                                selected_course_name_format, selected_sigla_format, \n",
    "                                                                                selected_nrc, suggested_nrc, obs)\n",
    "            \n",
    "        # MODIFICAR NOMBRE\n",
    "        else:\n",
    "            obs, suggested_course_name, academic_unit, in_vrai_catalogue = verify_name(df_courses_vrai, selected_nrc, selected_sigla_format, obs, True)\n",
    "            if not in_vrai_catalogue:\n",
    "                course_matches = df_courses_global.loc[df_courses_global['Nombre Curso (formateado)'] == selected_course_name_format]\n",
    "                if len(course_matches):\n",
    "                    academic_unit = course_matches['Escuela'].values[0]\n",
    "                    obs, suggested_nrc, suggested_sigla, academic_unit = verify_nrc_and_sigla(df_courses_global, course_matches, selected_course_name_format, \n",
    "                                                                                        selected_sigla_format, selected_nrc, suggested_nrc, obs)\n",
    "                else:\n",
    "                    obs, suggested_course_name, academic_unit, in_vrai_catalogue = verify_name(df_courses_global, selected_nrc, selected_sigla_format, obs, False)\n",
    "            \n",
    "        df_output.loc[len(df_output)] = [student_name, rut_uc, selected_course_name, suggested_course_name, \n",
    "                                        academic_unit, selected_nrc, suggested_nrc, selected_sigla, suggested_sigla, in_vrai_catalogue, obs]\n",
    "\n",
    "    if dpt:\n",
    "        df_output.to_csv('output_dpt.csv', index=False)\n",
    "    else:\n",
    "        df_output.to_csv('output.csv', index=False)"
   ]
  },
  {
   "cell_type": "code",
   "execution_count": 18,
   "metadata": {},
   "outputs": [],
   "source": [
    "verify_course_info(df_students, dpt=False)\n",
    "verify_course_info(df_students_dpt, dpt=True)"
   ]
  }
 ],
 "metadata": {
  "kernelspec": {
   "display_name": "Python 3",
   "language": "python",
   "name": "python3"
  },
  "language_info": {
   "codemirror_mode": {
    "name": "ipython",
    "version": 3
   },
   "file_extension": ".py",
   "mimetype": "text/x-python",
   "name": "python",
   "nbconvert_exporter": "python",
   "pygments_lexer": "ipython3",
   "version": "3.8.10"
  }
 },
 "nbformat": 4,
 "nbformat_minor": 2
}
